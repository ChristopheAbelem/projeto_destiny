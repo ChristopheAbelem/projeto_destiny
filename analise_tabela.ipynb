{
 "cells": [
  {
   "cell_type": "markdown",
   "metadata": {},
   "source": [
    "# European Tour Destinations Dataset\n"
   ]
  },
  {
   "cell_type": "markdown",
   "metadata": {},
   "source": [
    "## 1. Introducao\n",
    "\n",
    "- Nesta analise foram explorados diversos dados relacionados a destinos turisticos ao redor da europa. Com o objetivo de identificar tendencias e insights sobre paises,comidas,religiao,moeda local, entre outras areas. Os dados foram retirados de um dataset proveniente do site KAGGLE."
   ]
  },
  {
   "cell_type": "markdown",
   "metadata": {},
   "source": [
    "## 2. Carregamento e Preparação dos Dados"
   ]
  },
  {
   "cell_type": "markdown",
   "metadata": {},
   "source": [
    "### 2.1. Importacao das bibloiotecas "
   ]
  },
  {
   "cell_type": "code",
   "execution_count": 1,
   "metadata": {},
   "outputs": [],
   "source": [
    "import pandas as pd\n",
    "import matplotlib.pyplot as plt\n",
    "import seaborn as sns"
   ]
  },
  {
   "cell_type": "markdown",
   "metadata": {},
   "source": [
    "### 2.2 Carregamento dos dados"
   ]
  },
  {
   "cell_type": "code",
   "execution_count": 2,
   "metadata": {},
   "outputs": [
    {
     "name": "stdout",
     "output_type": "stream",
     "text": [
      "  Destination    Region Country Category   Latitude  Longitude  \\\n",
      "0        Rome     Lazio   Italy     City  41.902782  12.496366   \n",
      "1    Florence   Tuscany   Italy     City  43.769581  11.255772   \n",
      "2      Venice    Veneto   Italy     City  45.435559  12.336196   \n",
      "3       Milan  Lombardy   Italy     City  45.464643   9.188540   \n",
      "4      Naples  Campania   Italy     City  40.851330  14.254720   \n",
      "\n",
      "  Approximate Annual Tourists Currency Majority Religion  \\\n",
      "0                  14 million     Euro    Roman Catholic   \n",
      "1                  10 million     Euro    Roman Catholic   \n",
      "2                  10 million     Euro    Roman Catholic   \n",
      "3                   7 million     Euro    Roman Catholic   \n",
      "4                   5 million     Euro    Roman Catholic   \n",
      "\n",
      "                   Famous Foods Language  \\\n",
      "0          Pizza, Pasta, Gelato  Italian   \n",
      "1          Pizza, Pasta, Gelato  Italian   \n",
      "2          Pizza, Pasta, Gelato  Italian   \n",
      "3  Risotto, Ossobuco, Panettone  Italian   \n",
      "4         Pizza, Pasta, Cannoli  Italian   \n",
      "\n",
      "                      Best Time to Visit Cost of Living  \\\n",
      "0  Spring (April-May) or Fall (Sept-Oct)    Medium-high   \n",
      "1  Spring (April-May) or Fall (Sept-Oct)    Medium-high   \n",
      "2  Spring (April-May) or Fall (Sept-Oct)    Medium-high   \n",
      "3  Spring (April-May) or Fall (Sept-Oct)           High   \n",
      "4  Spring (April-May) or Fall (Sept-Oct)         Medium   \n",
      "\n",
      "                                          Safety  \\\n",
      "0  Generally safe, but watch out for pickpockets   \n",
      "1  Generally safe, but watch out for pickpockets   \n",
      "2  Generally safe, but watch out for pickpockets   \n",
      "3  Generally safe, but watch out for pickpockets   \n",
      "4    Generally safe, but be aware of pickpockets   \n",
      "\n",
      "                               Cultural Significance  \\\n",
      "0  The capital city, known for its historical lan...   \n",
      "1  A Renaissance city famous for its art, archite...   \n",
      "2  A unique city built on canals, known for its g...   \n",
      "3  A fashion capital known for its shopping, muse...   \n",
      "4  A vibrant city known for its delicious food, h...   \n",
      "\n",
      "                                         Description  \n",
      "0  A hub of ancient history and modern culture, w...  \n",
      "1  Home to world-class museums, including the Uff...  \n",
      "2  An iconic city of water, renowned for romantic...  \n",
      "3  A modern city with an ancient soul, featuring ...  \n",
      "4  Famous for pizza, Pompeii, and proximity to th...  \n",
      "209\n"
     ]
    }
   ],
   "source": [
    "df = pd.read_excel(r'/Users/christophe/Downloads/destinations.xlsx') #Substitua pelo seu local de arquivo\n",
    "print(df.head()) \n",
    "print(len(df))  "
   ]
  },
  {
   "cell_type": "markdown",
   "metadata": {},
   "source": [
    "- O dataframe possui 39 colunas com 1013 linhas"
   ]
  },
  {
   "cell_type": "code",
   "execution_count": 3,
   "metadata": {},
   "outputs": [
    {
     "data": {
      "text/html": [
       "<div>\n",
       "<style scoped>\n",
       "    .dataframe tbody tr th:only-of-type {\n",
       "        vertical-align: middle;\n",
       "    }\n",
       "\n",
       "    .dataframe tbody tr th {\n",
       "        vertical-align: top;\n",
       "    }\n",
       "\n",
       "    .dataframe thead th {\n",
       "        text-align: right;\n",
       "    }\n",
       "</style>\n",
       "<table border=\"1\" class=\"dataframe\">\n",
       "  <thead>\n",
       "    <tr style=\"text-align: right;\">\n",
       "      <th></th>\n",
       "      <th>Latitude</th>\n",
       "      <th>Longitude</th>\n",
       "    </tr>\n",
       "  </thead>\n",
       "  <tbody>\n",
       "    <tr>\n",
       "      <th>count</th>\n",
       "      <td>209.000000</td>\n",
       "      <td>209.000000</td>\n",
       "    </tr>\n",
       "    <tr>\n",
       "      <th>mean</th>\n",
       "      <td>48.381503</td>\n",
       "      <td>12.397526</td>\n",
       "    </tr>\n",
       "    <tr>\n",
       "      <th>std</th>\n",
       "      <td>8.203389</td>\n",
       "      <td>20.545257</td>\n",
       "    </tr>\n",
       "    <tr>\n",
       "      <th>min</th>\n",
       "      <td>32.652843</td>\n",
       "      <td>-22.189722</td>\n",
       "    </tr>\n",
       "    <tr>\n",
       "      <th>25%</th>\n",
       "      <td>43.257158</td>\n",
       "      <td>4.886067</td>\n",
       "    </tr>\n",
       "    <tr>\n",
       "      <th>50%</th>\n",
       "      <td>47.557778</td>\n",
       "      <td>9.741326</td>\n",
       "    </tr>\n",
       "    <tr>\n",
       "      <th>75%</th>\n",
       "      <td>53.480958</td>\n",
       "      <td>18.955689</td>\n",
       "    </tr>\n",
       "    <tr>\n",
       "      <th>max</th>\n",
       "      <td>69.649328</td>\n",
       "      <td>158.624312</td>\n",
       "    </tr>\n",
       "  </tbody>\n",
       "</table>\n",
       "</div>"
      ],
      "text/plain": [
       "         Latitude   Longitude\n",
       "count  209.000000  209.000000\n",
       "mean    48.381503   12.397526\n",
       "std      8.203389   20.545257\n",
       "min     32.652843  -22.189722\n",
       "25%     43.257158    4.886067\n",
       "50%     47.557778    9.741326\n",
       "75%     53.480958   18.955689\n",
       "max     69.649328  158.624312"
      ]
     },
     "execution_count": 3,
     "metadata": {},
     "output_type": "execute_result"
    }
   ],
   "source": [
    "df.describe()"
   ]
  },
  {
   "cell_type": "code",
   "execution_count": 4,
   "metadata": {},
   "outputs": [
    {
     "data": {
      "text/plain": [
       "Destination                     0.000000\n",
       "Region                          0.000000\n",
       "Country                         0.000000\n",
       "Category                        0.000000\n",
       "Latitude                        0.000000\n",
       "Longitude                       0.000000\n",
       "Approximate Annual Tourists     0.000000\n",
       "Currency                        0.000000\n",
       "Majority Religion               0.000000\n",
       "Famous Foods                    0.000000\n",
       "Language                        0.000000\n",
       "Best Time to Visit              0.000000\n",
       "Cost of Living                  0.000000\n",
       "Safety                          0.000000\n",
       "Cultural Significance           0.000000\n",
       "Description                    23.923445\n",
       "dtype: float64"
      ]
     },
     "execution_count": 4,
     "metadata": {},
     "output_type": "execute_result"
    }
   ],
   "source": [
    "perct_missing_values = df.isnull().sum()*100 / len(df)\n",
    "perct_missing_values.sort_values()"
   ]
  },
  {
   "cell_type": "code",
   "execution_count": 5,
   "metadata": {},
   "outputs": [
    {
     "name": "stdout",
     "output_type": "stream",
     "text": [
      "<class 'pandas.core.frame.DataFrame'>\n",
      "RangeIndex: 209 entries, 0 to 208\n",
      "Data columns (total 16 columns):\n",
      " #   Column                       Non-Null Count  Dtype  \n",
      "---  ------                       --------------  -----  \n",
      " 0   Destination                  209 non-null    object \n",
      " 1   Region                       209 non-null    object \n",
      " 2   Country                      209 non-null    object \n",
      " 3   Category                     209 non-null    object \n",
      " 4   Latitude                     209 non-null    float64\n",
      " 5   Longitude                    209 non-null    float64\n",
      " 6   Approximate Annual Tourists  209 non-null    object \n",
      " 7   Currency                     209 non-null    object \n",
      " 8   Majority Religion            209 non-null    object \n",
      " 9   Famous Foods                 209 non-null    object \n",
      " 10  Language                     209 non-null    object \n",
      " 11  Best Time to Visit           209 non-null    object \n",
      " 12  Cost of Living               209 non-null    object \n",
      " 13  Safety                       209 non-null    object \n",
      " 14  Cultural Significance        209 non-null    object \n",
      " 15  Description                  159 non-null    object \n",
      "dtypes: float64(2), object(14)\n",
      "memory usage: 26.3+ KB\n",
      "None\n"
     ]
    }
   ],
   "source": [
    "print(df.info())\n",
    "\n",
    "df = df.drop_duplicates() "
   ]
  },
  {
   "cell_type": "markdown",
   "metadata": {},
   "source": [
    "**Observação:**\n",
    "- Os dados foram carregados do arquivo `destinations.xlsx`.\n",
    "- Duplicatas foram removidas para garantir a qualidade dos dados."
   ]
  },
  {
   "cell_type": "markdown",
   "metadata": {},
   "source": [
    "## 3. Analise Demografica e geografica"
   ]
  },
  {
   "cell_type": "markdown",
   "metadata": {},
   "source": [
    "- Por se tratar de um dataset financeiro, o mesmo contem um grande volume de dados relacionados a precos. Por isso, essa secao sera dividida em analisar o preco das comodites(que tambem estao subdivididas), das criptomoedas e do valor de mercado das empresas presentes no arquivo\n",
    "\n",
    "- Ao se lidar com esse tipo de dados e seu volume, foi necessario analisar os preco de ano em ano para evitar sobrecarregamento e erros "
   ]
  },
  {
   "cell_type": "code",
   "execution_count": 51,
   "metadata": {},
   "outputs": [
    {
     "name": "stdout",
     "output_type": "stream",
     "text": [
      "Dados originais da França:\n",
      "          Destination                      Region Country        Category  \\\n",
      "20              Paris               Île-de-France  France            City   \n",
      "21               Nice  Provence-Alpes-Côte d'Azur  France    Coastal City   \n",
      "22          Marseille  Provence-Alpes-Côte d'Azur  France    Coastal City   \n",
      "23               Lyon        Auvergne-Rhône-Alpes  France            City   \n",
      "24           Bordeaux          Nouvelle-Aquitaine  France            City   \n",
      "25         Strasbourg                   Grand Est  France            City   \n",
      "26             Cannes  Provence-Alpes-Côte d'Azur  France    Coastal City   \n",
      "27  Mont Saint-Michel                    Normandy  France          Island   \n",
      "28       Loire Valley         Centre-Val de Loire  France          Region   \n",
      "29        French Alps        Auvergne-Rhône-Alpes  France  Mountain Range   \n",
      "\n",
      "     Latitude  Longitude  Approximate Annual Tourists Currency  \\\n",
      "20  48.856614   2.352222                          NaN     Euro   \n",
      "21  43.703761   7.268731                          NaN     Euro   \n",
      "22  43.296168   5.370254                          NaN     Euro   \n",
      "23  45.764048   4.835656                          NaN     Euro   \n",
      "24  44.837789  -0.579180                          NaN     Euro   \n",
      "25  48.572935   7.751936                          NaN     Euro   \n",
      "26  43.542333   7.024270                          NaN     Euro   \n",
      "27  48.636111  -1.504444                          NaN     Euro   \n",
      "28  47.626800  -0.936100                          NaN     Euro   \n",
      "29  45.192308   6.619079                          NaN     Euro   \n",
      "\n",
      "   Majority Religion                              Famous Foods  \\\n",
      "20    Roman Catholic             Croissants, Baguettes, Cheese   \n",
      "21    Roman Catholic            Niçoise salad, Socca, Panisses   \n",
      "22    Roman Catholic             Bouillabaisse, Aïoli, Panisse   \n",
      "23    Roman Catholic  Quiche Lorraine, Lyonnaise salad, Canelé   \n",
      "24    Roman Catholic              Canelé, Cassoulet, Foie gras   \n",
      "25    Roman Catholic      Quiche Lorraine, Choucroute, Bredele   \n",
      "26    Roman Catholic             Bouillabaisse, Aïoli, Panisse   \n",
      "27    Roman Catholic                           Seafood, Crepes   \n",
      "28    Roman Catholic        Croque-monsieur, French onion soup   \n",
      "29    Roman Catholic             Fondue, Raclette, Tartiflette   \n",
      "\n",
      "               Language                              Best Time to Visit  \\\n",
      "20               French           Spring (April-May) or Fall (Sept-Oct)   \n",
      "21               French           Spring (April-May) or Fall (Sept-Oct)   \n",
      "22               French           Spring (April-May) or Fall (Sept-Oct)   \n",
      "23               French           Spring (April-May) or Fall (Sept-Oct)   \n",
      "24               French           Spring (April-May) or Fall (Sept-Oct)   \n",
      "25  French (and German)           Spring (April-May) or Fall (Sept-Oct)   \n",
      "26               French           Spring (April-May) or Fall (Sept-Oct)   \n",
      "27               French           Spring (April-May) or Fall (Sept-Oct)   \n",
      "28               French           Spring (April-May) or Fall (Sept-Oct)   \n",
      "29               French  Winter (Dec-Mar) for skiing, Summer (Jun-Sept)   \n",
      "\n",
      "   Cost of Living                                         Safety  \\\n",
      "20           High  Generally safe, but watch out for pickpockets   \n",
      "21    Medium-high    Generally safe, but be aware of pickpockets   \n",
      "22         Medium    Generally safe, but be aware of pickpockets   \n",
      "23    Medium-high    Generally safe, but be aware of pickpockets   \n",
      "24    Medium-high    Generally safe, but be aware of pickpockets   \n",
      "25    Medium-high    Generally safe, but be aware of pickpockets   \n",
      "26           High    Generally safe, but be aware of pickpockets   \n",
      "27    Medium-high                                 Generally safe   \n",
      "28         Medium                                 Generally safe   \n",
      "29    Medium-high                                 Generally safe   \n",
      "\n",
      "                                Cultural Significance  \\\n",
      "20  Home to iconic landmarks like the Eiffel Tower...   \n",
      "21  Known for its beaches, Mediterranean climate, ...   \n",
      "22  The second-largest city in France, known for i...   \n",
      "23  A culinary capital with renowned restaurants, ...   \n",
      "24  A city famous for its wine production, histori...   \n",
      "25  A charming city with a medieval Old Town, Goth...   \n",
      "26  A glamorous coastal city known for its film fe...   \n",
      "27  A UNESCO World Heritage Site, famous for its a...   \n",
      "28  A region known for its stunning chateaux, vine...   \n",
      "29  A mountainous region offering skiing, hiking, ...   \n",
      "\n",
      "                                          Description  \n",
      "20  A city of art, fashion, and culture, featuring...  \n",
      "21  A coastal gem with a beautiful Promenade des A...  \n",
      "22  A city rich in history and culture, with a vib...  \n",
      "23  Famous for its gastronomy, vibrant old town, a...  \n",
      "24  Renowned for its vineyards and wine, as well a...  \n",
      "25  Located on the border with Germany, Strasbourg...  \n",
      "26  World-famous for the Cannes Film Festival, fea...  \n",
      "27  A breathtaking medieval island commune with a ...  \n",
      "28  Known for its many châteaux and vineyards, a s...  \n",
      "29  A haven for outdoor enthusiasts, famous for it...  \n",
      "\n",
      "Dados convertidos para a França:\n",
      "Empty DataFrame\n",
      "Columns: [Destination, Region, Country, Category, Latitude, Longitude, Approximate Annual Tourists, Currency, Majority Religion, Famous Foods, Language, Best Time to Visit, Cost of Living, Safety, Cultural Significance, Description]\n",
      "Index: []\n"
     ]
    }
   ],
   "source": [
    "import pandas as pd\n",
    "import numpy as np\n",
    "\n",
    "#\n",
    "# Exibir dados originais antes da conversão\n",
    "print(\"Dados originais da França:\")\n",
    "print(df[df['Country'].str.lower() == 'france'])\n",
    "\n",
    "# Função para converter valores da coluna 'Approximate Annual Tourists' apenas para a França\n",
    "def convert_france_tourists(value):\n",
    "    if isinstance(value, str):\n",
    "        # Se a palavra 'million' estiver presente\n",
    "        if 'million' in value:\n",
    "            # Extrair o número antes da palavra \"million\"\n",
    "            number_part = value.split()[0]  # pega o primeiro elemento\n",
    "            try:\n",
    "                return float(number_part) * 1_000_000  # multiplica por 1.000.000\n",
    "            except ValueError:\n",
    "                return np.nan  # Retorna NaN para valores não convertíveis\n",
    "    return value  # Retorna o valor original se não for uma string\n",
    "\n",
    "# Aplicar a conversão apenas para a França\n",
    "df.loc[df['Country'].str.lower() == 'frança', 'Approximate Annual Tourists'] = df.loc[df['Country'].str.lower() == 'frança', 'Approximate Annual Tourists'].apply(convert_france_tourists)\n",
    "\n",
    "# Exibir dados convertidos para a França\n",
    "print(\"\\nDados convertidos para a França:\")\n",
    "print(df[df['Country'].str.lower() == 'frança'])\n"
   ]
  },
  {
   "cell_type": "code",
   "execution_count": 18,
   "metadata": {},
   "outputs": [
    {
     "name": "stderr",
     "output_type": "stream",
     "text": [
      "/var/folders/lh/kgkxn3f536nfn07l9g_kbxb00000gn/T/ipykernel_1847/2998342019.py:18: FutureWarning: \n",
      "\n",
      "Passing `palette` without assigning `hue` is deprecated and will be removed in v0.14.0. Assign the `x` variable to `hue` and set `legend=False` for the same effect.\n",
      "\n",
      "  sns.barplot(x='Destination', y='Approximate Annual Tourists', data=top_destinos, palette='Blues_d')\n"
     ]
    },
    {
     "data": {
      "image/png": "[encoded data removed]",
      "text/plain": [
       "<Figure size 1000x600 with 1 Axes>"
      ]
     },
     "metadata": {},
     "output_type": "display_data"
    }
   ],
   "source": [
    "# Converter a coluna 'Approximate Annual Tourists' para numérico (float)\n",
    "#df['Approximate Annual Tourists'] = pd.to_numeric(df['Approximate Annual Tourists'], errors='coerce')\n",
    "\n",
    "# Ordenar os destinos pelo número de turistas anuais em ordem decrescente\n",
    "#top_destinos = df.sort_values(by='Approximate Annual Tourists', ascending=False)\n",
    "\n",
    "# Mostrar os 5 destinos mais visitados\n",
    "#print(top_destinos[['Country', 'Approximate Annual Tourists']].head(10))\n",
    "\n",
    "import matplotlib.pyplot as plt\n",
    "import seaborn as sns\n",
    "\n",
    "# Filtrar os 5 destinos mais visitados (sem converter para numérico)\n",
    "top_destinos = df.sort_values(by='Approximate Annual Tourists', ascending=False).head(5)\n",
    "\n",
    "# Criar o gráfico diretamente usando as strings como estão\n",
    "plt.figure(figsize=(10, 6))\n",
    "sns.barplot(x='Destination', y='Approximate Annual Tourists', data=top_destinos, palette='Blues_d')\n",
    "\n",
    "plt.title('Top 5 Destinos Mais Visitados (Dados sem Conversão)')\n",
    "plt.xlabel('Destinos')\n",
    "plt.ylabel('Número Aproximado de Turistas Anuais')\n",
    "plt.xticks(rotation=45)\n",
    "plt.tight_layout()\n",
    "plt.show()\n"
   ]
  }
 ],
 "metadata": {
  "kernelspec": {
   "display_name": "Python 3",
   "language": "python",
   "name": "python3"
  },
  "language_info": {
   "codemirror_mode": {
    "name": "ipython",
    "version": 3
   },
   "file_extension": ".py",
   "mimetype": "text/x-python",
   "name": "python",
   "nbconvert_exporter": "python",
   "pygments_lexer": "ipython3",
   "version": "3.12.5"
  }
 },
 "nbformat": 4,
 "nbformat_minor": 2
}
